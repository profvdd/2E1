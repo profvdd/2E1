{
 "cells": [
  {
   "cell_type": "markdown",
   "id": "distinct-conditions",
   "metadata": {},
   "source": [
    "# TD3 algo - fonctions  \n",
    "\n",
    "## Exercice 22"
   ]
  },
  {
   "cell_type": "code",
   "execution_count": null,
   "id": "focused-freight",
   "metadata": {},
   "outputs": [],
   "source": [
    "def bizarre(a,b,c):\n",
    "    valeur = 3*a + 5*b + c\n",
    "    return valeur\n",
    "\n",
    "x=0\n",
    "y=1\n",
    "print(bizarre(x,2,y))"
   ]
  },
  {
   "cell_type": "markdown",
   "id": "uniform-treatment",
   "metadata": {},
   "source": [
    "La fonction renvoie la `valeur` 11 et l'affiche.  \n",
    "Pour suivre le contenu des variables vous pouvez lancer PythonTutor et copier/coller le script précédent dans le formulaire de PythonTutor.  \n",
    "[Lancer PythonTutor](http://www.pythontutor.com/visualize.html#code=&cumulative=false&heapPrimitives=nevernest&mode=edit&origin=opt-frontend.js&py=3&rawInputLstJSON=%5B%5D&textReferences=false)"
   ]
  },
  {
   "cell_type": "markdown",
   "id": "stopped-weather",
   "metadata": {},
   "source": [
    "## Exercice 23"
   ]
  },
  {
   "cell_type": "code",
   "execution_count": null,
   "id": "found-genetics",
   "metadata": {},
   "outputs": [],
   "source": [
    "def aire_triangle(base,hauteur):\n",
    "    aire=(base*hauteur)/2\n",
    "    return aire\n",
    "\n",
    "b=float(input('Entrez la longueur de la base : '))\n",
    "h=float(input('Entrez la hauteur du triangle : '))\n",
    "a=aire_triangle(b,h)\n",
    "print('Aire du triangle : ',a)"
   ]
  },
  {
   "cell_type": "markdown",
   "id": "proper-mortgage",
   "metadata": {},
   "source": [
    "A tester de même avec PythonTutor  \n",
    "[Lancer PythonTutor](http://www.pythontutor.com/visualize.html#code=&cumulative=false&heapPrimitives=nevernest&mode=edit&origin=opt-frontend.js&py=3&rawInputLstJSON=%5B%5D&textReferences=false)"
   ]
  },
  {
   "cell_type": "markdown",
   "id": "governmental-navigation",
   "metadata": {},
   "source": [
    "## Exercice 24  \n",
    "Ecrire une fonction `moyenne2` prenant comme paramètres deux variables `x` et `y` et retournant la moyenne de leurs deux valeurs."
   ]
  },
  {
   "cell_type": "code",
   "execution_count": null,
   "id": "recreational-oxygen",
   "metadata": {},
   "outputs": [],
   "source": [
    "# Votre code ici"
   ]
  },
  {
   "cell_type": "markdown",
   "id": "further-species",
   "metadata": {},
   "source": [
    "## Exercice 25  \n",
    "Ecrire une fonction `moyenne3` prenant comme paramètres trois variables `x` , `y` , `z` et retournant la moyenne de leurs trois valeurs."
   ]
  },
  {
   "cell_type": "code",
   "execution_count": null,
   "id": "infinite-outdoors",
   "metadata": {},
   "outputs": [],
   "source": [
    "# Votre code ici"
   ]
  },
  {
   "cell_type": "markdown",
   "id": "sharing-toyota",
   "metadata": {},
   "source": [
    "## Exercice 26 \n",
    "Ecrire une fonction `image` prenant comme en paramètre une variable `x` et retournant l image de l antécédent `x` par la fonction $f$ telle que $f(x) = 3x^2 - 7x + 4$."
   ]
  },
  {
   "cell_type": "code",
   "execution_count": null,
   "id": "electoral-warrior",
   "metadata": {},
   "outputs": [],
   "source": [
    "# Votre code ici"
   ]
  },
  {
   "cell_type": "markdown",
   "id": "peripheral-sender",
   "metadata": {},
   "source": [
    "## Exercice 27  \n",
    "Ecrire une fonction `hausse20` prenant en paramètre une variable `quantite` et retournant sa valeur augmentée de $20\\%$"
   ]
  },
  {
   "cell_type": "code",
   "execution_count": null,
   "id": "hourly-noise",
   "metadata": {},
   "outputs": [],
   "source": [
    "# Votre code ici"
   ]
  }
 ],
 "metadata": {
  "kernelspec": {
   "display_name": "Python 3",
   "language": "python",
   "name": "python3"
  },
  "language_info": {
   "codemirror_mode": {
    "name": "ipython",
    "version": 3
   },
   "file_extension": ".py",
   "mimetype": "text/x-python",
   "name": "python",
   "nbconvert_exporter": "python",
   "pygments_lexer": "ipython3",
   "version": "3.7.10"
  }
 },
 "nbformat": 4,
 "nbformat_minor": 5
}
