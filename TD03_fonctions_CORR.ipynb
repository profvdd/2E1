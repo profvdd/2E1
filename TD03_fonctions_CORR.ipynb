{
 "cells": [
  {
   "cell_type": "markdown",
   "metadata": {},
   "source": [
    "# TD3 algo - fonctions CORRECTION \n",
    "\n",
    "## Exercice 22"
   ]
  },
  {
   "cell_type": "code",
   "execution_count": 1,
   "metadata": {},
   "outputs": [
    {
     "name": "stdout",
     "output_type": "stream",
     "text": [
      "11\n"
     ]
    }
   ],
   "source": [
    "def bizarre(a,b,c):\n",
    "    valeur = 3*a + 5*b + c\n",
    "    return valeur\n",
    "\n",
    "x=0\n",
    "y=1\n",
    "print(bizarre(x,2,y))"
   ]
  },
  {
   "cell_type": "markdown",
   "metadata": {},
   "source": [
    "La fonction renvoie la `valeur` 11 et l'affiche.  \n",
    "Pour suivre le contenu des variables vous pouvez lancer PythonTutor et copier/coller le script précédent dans le formulaire de PythonTutor.  \n",
    "[Lancer PythonTutor](http://www.pythontutor.com/visualize.html#code=&cumulative=false&heapPrimitives=nevernest&mode=edit&origin=opt-frontend.js&py=3&rawInputLstJSON=%5B%5D&textReferences=false)"
   ]
  },
  {
   "cell_type": "markdown",
   "metadata": {},
   "source": [
    "## Exercice 23"
   ]
  },
  {
   "cell_type": "code",
   "execution_count": 2,
   "metadata": {},
   "outputs": [
    {
     "name": "stdout",
     "output_type": "stream",
     "text": [
      "Entrez la longueur de la base : 12.25\n",
      "Entrez la hauteur du triangle : 9\n",
      "Aire du triangle :  55.125\n"
     ]
    }
   ],
   "source": [
    "def aire_triangle(base,hauteur):\n",
    "    aire=(base*hauteur)/2\n",
    "    return aire\n",
    "\n",
    "b=float(input('Entrez la longueur de la base : '))\n",
    "h=float(input('Entrez la hauteur du triangle : '))\n",
    "a=aire_triangle(b,h)\n",
    "print('Aire du triangle : ',a)"
   ]
  },
  {
   "cell_type": "markdown",
   "metadata": {},
   "source": [
    "A tester de même avec PythonTutor  \n",
    "[Lancer PythonTutor](http://www.pythontutor.com/visualize.html#code=&cumulative=false&heapPrimitives=nevernest&mode=edit&origin=opt-frontend.js&py=3&rawInputLstJSON=%5B%5D&textReferences=false)"
   ]
  },
  {
   "cell_type": "markdown",
   "metadata": {},
   "source": [
    "## Exercice 24  \n",
    "Ecrire une fonction `moyenne2` prenant comme paramètres deux variables `x` et `y` et retournant la moyenne de leurs deux valeurs."
   ]
  },
  {
   "cell_type": "code",
   "execution_count": 4,
   "metadata": {},
   "outputs": [
    {
     "name": "stdout",
     "output_type": "stream",
     "text": [
      "10.0\n"
     ]
    }
   ],
   "source": [
    "# Votre code ici\n",
    "def moyenne2(x,y):\n",
    "    z=(x+y)/2\n",
    "    return z\n",
    "\n",
    "moy=moyenne2(2,18)\n",
    "print(moy)"
   ]
  },
  {
   "cell_type": "markdown",
   "metadata": {},
   "source": [
    "## Exercice 25  \n",
    "Ecrire une fonction `moyenne3` prenant comme paramètres trois variables `x` , `y` , `z` et retournant la moyenne de leurs trois valeurs."
   ]
  },
  {
   "cell_type": "code",
   "execution_count": 6,
   "metadata": {},
   "outputs": [
    {
     "name": "stdout",
     "output_type": "stream",
     "text": [
      "12.333333333333334\n"
     ]
    }
   ],
   "source": [
    "# Votre code ici\n",
    "def moyenne3(x,y,z):\n",
    "    m=(x+y+z)/3\n",
    "    return m\n",
    "\n",
    "moy=moyenne3(12,18,7)\n",
    "print(moy)"
   ]
  },
  {
   "cell_type": "markdown",
   "metadata": {},
   "source": [
    "## Exercice 26 \n",
    "Ecrire une fonction `image` prenant comme en paramètre une variable `x` et retournant l image de l antécédent `x` par la fonction $f$ telle que $f(x) = 3x^2 - 7x + 4$."
   ]
  },
  {
   "cell_type": "code",
   "execution_count": 9,
   "metadata": {},
   "outputs": [
    {
     "name": "stdout",
     "output_type": "stream",
     "text": [
      "x = -1.5\n",
      "y =  21.25\n"
     ]
    }
   ],
   "source": [
    "# Votre code ici\n",
    "def image(x):\n",
    "    return 3*x**2 - 7*x + 4\n",
    "\n",
    "x=float(input('x = '))\n",
    "print('y = ',image(x))"
   ]
  },
  {
   "cell_type": "code",
   "execution_count": 11,
   "metadata": {},
   "outputs": [
    {
     "name": "stdout",
     "output_type": "stream",
     "text": [
      "[0, 1, 2, 3, 4]\n",
      "[4, 0, 2, 10, 24]\n"
     ]
    }
   ],
   "source": [
    "X = [i for i in range(5)]\n",
    "print(X)\n",
    "Y = [image(x) for x in X]\n",
    "print(Y)"
   ]
  },
  {
   "cell_type": "markdown",
   "metadata": {},
   "source": [
    "## Exercice 27  \n",
    "Ecrire une fonction `hausse20` prenant en paramètre une variable `quantite` et retournant sa valeur augmentée de $20\\%$"
   ]
  },
  {
   "cell_type": "code",
   "execution_count": 13,
   "metadata": {},
   "outputs": [
    {
     "name": "stdout",
     "output_type": "stream",
     "text": [
      "valeur initiale : 82.25\n",
      "valeur après augmentation :  98.7\n"
     ]
    }
   ],
   "source": [
    "# Votre code ici\n",
    "def hausse20(quantite):\n",
    "    return quantite*1.2\n",
    "\n",
    "v1=float(input('valeur initiale : '))\n",
    "v2=print('valeur après augmentation : ', hausse20(v1))"
   ]
  },
  {
   "cell_type": "code",
   "execution_count": null,
   "metadata": {},
   "outputs": [],
   "source": []
  }
 ],
 "metadata": {
  "kernelspec": {
   "display_name": "Python 3",
   "language": "python",
   "name": "python3"
  },
  "language_info": {
   "codemirror_mode": {
    "name": "ipython",
    "version": 3
   },
   "file_extension": ".py",
   "mimetype": "text/x-python",
   "name": "python",
   "nbconvert_exporter": "python",
   "pygments_lexer": "ipython3",
   "version": "3.7.0"
  }
 },
 "nbformat": 4,
 "nbformat_minor": 5
}
