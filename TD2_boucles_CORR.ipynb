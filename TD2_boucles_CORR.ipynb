{
 "cells": [
  {
   "cell_type": "markdown",
   "metadata": {},
   "source": [
    "# TD2 - Algorithmique\n",
    "## Retour sur les boucles"
   ]
  },
  {
   "cell_type": "markdown",
   "metadata": {},
   "source": [
    "## Partie 1 : Implémentation en Python des exercices 1 à 3 de la feuille de TD."
   ]
  },
  {
   "cell_type": "markdown",
   "metadata": {},
   "source": [
    "$\\fbox{Exercice 1}$ Exécuter le code Python ci-dessous et vérifier votre réponse donnée à cet exercice"
   ]
  },
  {
   "cell_type": "code",
   "execution_count": 1,
   "metadata": {},
   "outputs": [
    {
     "name": "stdout",
     "output_type": "stream",
     "text": [
      "2\n",
      "3\n",
      "5\n",
      "8\n",
      "13\n",
      "21\n",
      "34\n",
      "55\n",
      "89\n",
      "144\n"
     ]
    }
   ],
   "source": [
    "n=0\n",
    "a=1\n",
    "b=1\n",
    "while n < 10:\n",
    "    n=n+1\n",
    "    c=b\n",
    "    b=a+b\n",
    "    a=c\n",
    "    print(b)"
   ]
  },
  {
   "cell_type": "markdown",
   "metadata": {},
   "source": [
    "$\\fbox{Exercice 2}$ Compléter le code ci-dessous correspondant à l'exercice 2 du TD et vérifer vos réponses en l'exécutant. "
   ]
  },
  {
   "cell_type": "code",
   "execution_count": 4,
   "metadata": {},
   "outputs": [
    {
     "name": "stdout",
     "output_type": "stream",
     "text": [
      "A = 10\n",
      "B = 5\n",
      "C = 2\n",
      "2 5 10\n"
     ]
    }
   ],
   "source": [
    "a=int(input('A = '))\n",
    "b=int(input('B = '))\n",
    "c= int(input('C = '))\n",
    "i=0\n",
    "while i<2:\n",
    "    i=i+1\n",
    "    if a>b:\n",
    "        t=a\n",
    "        a=b\n",
    "        b=t\n",
    "    if b>c:\n",
    "        t=b\n",
    "        b=c\n",
    "        c=t\n",
    "print(a,b,c)"
   ]
  },
  {
   "cell_type": "markdown",
   "metadata": {},
   "source": [
    "$\\fbox{Exercice 3}$ Compléter de même le code de l'exercice 3 du TD et vérifer vos réponses en l'exécutant."
   ]
  },
  {
   "cell_type": "code",
   "execution_count": 6,
   "metadata": {},
   "outputs": [
    {
     "name": "stdout",
     "output_type": "stream",
     "text": [
      "N = 10\n",
      "55\n"
     ]
    }
   ],
   "source": [
    "n=int(input('N = '))\n",
    "s=0\n",
    "for i in range( 1 , n+1  ):\n",
    "    s = s + i\n",
    "print(  s )"
   ]
  },
  {
   "cell_type": "markdown",
   "metadata": {},
   "source": [
    "## Partie 2 : Implémentation en Python des exercices 4 à 6 de la feuille de TD."
   ]
  },
  {
   "cell_type": "markdown",
   "metadata": {},
   "source": [
    "$\\fbox{Exercice 4}$ Compléter le code de l'exercice 4 du TD et vérifer vos réponses en l'exécutant."
   ]
  },
  {
   "cell_type": "code",
   "execution_count": 10,
   "metadata": {},
   "outputs": [
    {
     "name": "stdout",
     "output_type": "stream",
     "text": [
      "2\n",
      "2\n",
      "1\n",
      "2\n",
      "1\n",
      "2\n",
      "1\n",
      "1\n",
      "1\n",
      "2\n",
      "2\n",
      "1\n",
      "1\n",
      "2\n",
      "1\n",
      "1\n",
      "1\n",
      "1\n",
      "Nombre de pièces ajoutées :  17\n"
     ]
    }
   ],
   "source": [
    "# On importe d'abord la bibliothèque random\n",
    "from random import *  \n",
    "# On pourra ensuite utiliser la fonction randint pour générer un entier aléatoire\n",
    "s = 25\n",
    "d = 0\n",
    "while s <  50    :\n",
    "    a = randint(1,2)   # génère un entier aléatoire entre 1 et 2 inclus\n",
    "    s = s+a\n",
    "    d = d + 1\n",
    "    print(a)\n",
    "print('Nombre de pièces ajoutées : ',d-1)"
   ]
  },
  {
   "cell_type": "markdown",
   "metadata": {},
   "source": [
    "$\\fbox{Exercice 5}$ Ecrire un programme Python qui calcule la somme des entiers positifs pairs inférieurs ou égaux à 1000.  \n",
    "Une boucle est nécessaire, à vous de choisir entre une boucle `while` et une boucle `for`"
   ]
  },
  {
   "cell_type": "code",
   "execution_count": 11,
   "metadata": {},
   "outputs": [
    {
     "name": "stdout",
     "output_type": "stream",
     "text": [
      "250500\n"
     ]
    }
   ],
   "source": [
    "#version 1\n",
    "s = 0\n",
    "for p in range(2,1001,2):\n",
    "    s=s+p\n",
    "print(s)"
   ]
  },
  {
   "cell_type": "code",
   "execution_count": 12,
   "metadata": {},
   "outputs": [
    {
     "name": "stdout",
     "output_type": "stream",
     "text": [
      "250500\n"
     ]
    }
   ],
   "source": [
    "#version 2\n",
    "s = 0\n",
    "p = 0\n",
    "while p < 1000:\n",
    "    p=p+2\n",
    "    s=s+p\n",
    "print(s)"
   ]
  },
  {
   "cell_type": "markdown",
   "metadata": {},
   "source": [
    "$\\fbox{Exercice 6}$ Les grains de riz  \n",
    "Ici aussi une boucle (`while` ou `for` ?) sera nécessaire, une aide : on connait le nombre de cases de l'échiquier..."
   ]
  },
  {
   "cell_type": "code",
   "execution_count": 13,
   "metadata": {},
   "outputs": [
    {
     "name": "stdout",
     "output_type": "stream",
     "text": [
      "18446744073709551615\n"
     ]
    }
   ],
   "source": [
    "riz = 1\n",
    "total = 1\n",
    "for case in range(2,65):\n",
    "    riz = 2*riz\n",
    "    total = total + riz\n",
    "print(total)"
   ]
  },
  {
   "cell_type": "code",
   "execution_count": 16,
   "metadata": {},
   "outputs": [
    {
     "name": "stdout",
     "output_type": "stream",
     "text": [
      "masse totale :  1106804644422.573 tonnes\n"
     ]
    }
   ],
   "source": [
    "print('masse totale : ',total*0.06/10**6, 'tonnes')\n"
   ]
  },
  {
   "cell_type": "code",
   "execution_count": null,
   "metadata": {},
   "outputs": [],
   "source": []
  }
 ],
 "metadata": {
  "kernelspec": {
   "display_name": "Python 3",
   "language": "python",
   "name": "python3"
  },
  "language_info": {
   "codemirror_mode": {
    "name": "ipython",
    "version": 3
   },
   "file_extension": ".py",
   "mimetype": "text/x-python",
   "name": "python",
   "nbconvert_exporter": "python",
   "pygments_lexer": "ipython3",
   "version": "3.7.0"
  }
 },
 "nbformat": 4,
 "nbformat_minor": 2
}
